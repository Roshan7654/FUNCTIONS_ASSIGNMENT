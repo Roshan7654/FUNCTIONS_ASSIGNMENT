{
  "nbformat": 4,
  "nbformat_minor": 0,
  "metadata": {
    "colab": {
      "provenance": []
    },
    "kernelspec": {
      "name": "python3",
      "display_name": "Python 3"
    },
    "language_info": {
      "name": "python"
    }
  },
  "cells": [
    {
      "cell_type": "code",
      "source": [],
      "metadata": {
        "id": "K4LP9oS0zxjL"
      },
      "execution_count": null,
      "outputs": []
    },
    {
      "cell_type": "markdown",
      "source": [
        "**THEORY**"
      ],
      "metadata": {
        "id": "kK15ZylHzwme"
      }
    },
    {
      "cell_type": "markdown",
      "source": [
        "1. What is the difference between a function and a method in Python?\n",
        "\n",
        "-->\n",
        "\n",
        "A function is standalone and called directly, while a method is defined in a class and called on an object. Methods require `self` or `cls` as a parameter."
      ],
      "metadata": {
        "id": "pJtaU-AuzxSg"
      }
    },
    {
      "cell_type": "markdown",
      "source": [
        "2. Explain the concept of function arguments and parameters in Python.\n",
        "\n",
        "-->\n",
        "\n",
        "In Python, parameters are the variables listed in a function's definition, representing inputs the function can accept. Arguments are the actual values passed to the function when it is called. For example, in `def greet(name):`, `name` is the parameter. When calling `greet(\"Alice\")`, `\"Alice\"` is the argument. Python supports various argument types: positional, keyword, default, variable-length (`*args`, `**kwargs`), allowing flexibility in function calls."
      ],
      "metadata": {
        "id": "ItJUPCsr0pdA"
      }
    },
    {
      "cell_type": "markdown",
      "source": [
        "3. What are the different ways to define and call a function in Python?\n",
        "\n",
        "-->\n",
        "\n",
        "In Python, functions can be defined using `def` and called in several ways:  \n",
        "\n",
        "1. Positional Arguments: Pass arguments in order.  \n",
        "   ```python\n",
        "   def greet(name): print(f\"Hello, {name}!\")\n",
        "   greet(\"Alice\")\n",
        "   ```\n",
        "\n",
        "2. Keyword Arguments: Specify arguments by name.  \n",
        "   ```python\n",
        "   greet(name=\"Alice\")\n",
        "   ```\n",
        "\n",
        "3. Default Arguments: Provide default values in the definition.  \n",
        "   ```python\n",
        "   def greet(name=\"Guest\"): print(f\"Hello, {name}!\")\n",
        "   greet()\n",
        "   ```\n",
        "\n",
        " Variable-Length Arguments: Use `*args` for tuples, `**kwargs` for dictionaries.  \n",
        "   ```python\n",
        "   def info(*args, **kwargs): print(args, kwargs)\n",
        "   info(1, 2, name=\"Alice\")\n",
        "   ```"
      ],
      "metadata": {
        "id": "5iXaqAwf00lx"
      }
    },
    {
      "cell_type": "markdown",
      "source": [
        "4.  What is the purpose of the `return` statement in a Python function?\n",
        "\n",
        "-->\n",
        "\n",
        "The return statement in Python is like a special door that lets a function send a message back to the part of the program that asked it to do something. This message can be anything the function has learned or created, like a number, a word, or even a whole list of things.\n",
        "\n",
        "For example, imagine you have a function that can add two numbers together. When you give the function two numbers, it uses the return statement to send back the answer. This way, you can use the answer in other parts of your program.\n",
        "\n",
        "If a function doesn't have a return statement, it's like a one-way street. It can receive information, but it can't send anything back. So, if you try to use the result of a function without a return statement, you'll get nothing."
      ],
      "metadata": {
        "id": "dF3Mvfx91SWd"
      }
    },
    {
      "cell_type": "markdown",
      "source": [
        "5. What are iterators in Python and how do they differ from iterables?\n",
        "\n",
        "-->\n",
        "\n",
        "Iterator in Python is an object which allows us to traverse through all the elements of the object using next() method. It maintains the next position and it raises StopIteration when there is nothing more. An iterable is an object from which you can obtain an iterator using the iter() function. Iterables can be lists, tuples, strings. Iterators are derived from iterables and are used for lazy evaluation."
      ],
      "metadata": {
        "id": "IlBImATj1W7K"
      }
    },
    {
      "cell_type": "markdown",
      "source": [
        "6.  Explain the concept of generators in Python and how they are defined.\n",
        "\n",
        "-->\n",
        "\n",
        "Generators in Python are a special kind of iterator used to generate values lazily, meaning one at a time as needed. They are defined using a function with the `yield` keyword instead of `return`. When called, a generator function doesn’t run its code immediately but returns a generator object. You can then use `next()` to get values one by one until it raises `StopIteration`. This makes generators memory-efficient for large datasets.  \n",
        "\n",
        "Example:  \n",
        "```python\n",
        "def count_up_to(n):\n",
        "    count = 1\n",
        "    while count <= n:\n",
        "        yield count\n",
        "        count += 1\n",
        "\n",
        "gen = count_up_to(3)\n",
        "print(next(gen))  # Outputs: 1\n",
        "```"
      ],
      "metadata": {
        "id": "0iCi9H692DEt"
      }
    },
    {
      "cell_type": "markdown",
      "source": [
        "7. What are the advantages of using generators over regular functions?\n",
        "\n",
        "-->\n",
        "\n",
        "Generators offer several advantages over regular functions:\n",
        "\n",
        "1. Memory Efficiency: Generators yield items one at a time, so they don't store the entire sequence in memory, making them ideal for working with large datasets.\n",
        "   \n",
        "2. Lazy Evaluation: They calculate values only when needed, improving performance when processing large or infinite sequences.\n",
        "   \n",
        "3. State Retention: Generators remember their state between calls, allowing for more efficient and clean code without needing to manually manage the state.\n",
        "   \n",
        "4. Improved Performance: Since generators yield items one at a time, they can handle data more efficiently, especially for tasks like reading large files or streaming data."
      ],
      "metadata": {
        "id": "PWdKWvBc2Imn"
      }
    },
    {
      "cell_type": "markdown",
      "source": [
        "8. What is a lambda function in Python and when is it typically used?\n",
        "\n",
        "-->\n",
        "\n",
        "A lambda function in Python is a small, anonymous function defined using the `lambda` keyword. It can have any number of arguments but only one expression. The result of the expression is automatically returned.\n",
        "\n",
        "Example:\n",
        "```python\n",
        "add = lambda x, y: x + y\n",
        "print(add(2, 3))  # Output: 5\n",
        "```\n",
        "\n",
        "Lambda functions are typically used for short, simple operations where defining a full function would be overkill, especially when used as arguments in functions like `map()`, `filter()`, and `sorted()`. They are useful for cases where you need a quick, one-time use function."
      ],
      "metadata": {
        "id": "JpZ-9cJF2VdQ"
      }
    },
    {
      "cell_type": "markdown",
      "source": [
        "9. Explain the purpose and usage of the `map()` function in Python.\n",
        "\n",
        "-->\n",
        "\n",
        "\n",
        "\n",
        "The `map()` function in Python applies a given function to each item in an iterable (like a list) and returns an iterator. It’s like a conveyor belt, processing each item with the same operation.\n",
        "\n",
        "Here’s a brief example:\n",
        "\n",
        "```python\n",
        "\n",
        "def double(n):\n",
        "    return n * 2\n",
        "\n",
        "numbers = [1, 2, 3, 4, 5]\n",
        "\n",
        "\n",
        "doubled_numbers = map(double, numbers)\n",
        "\n",
        "print(list(doubled_numbers))\n",
        "\n",
        "```"
      ],
      "metadata": {
        "id": "1MGO-QQe2jkW"
      }
    },
    {
      "cell_type": "markdown",
      "source": [
        "10. What is the difference between `map()`, `reduce()`, and `filter()` functions in Python?\n",
        "\n",
        "-->\n",
        "\n",
        "There are map(), reduce() and filter() to process iterables in Python. map() takes a function and an iterable and applies the function to every item on the iterable, returning an iterator of the results. reduce() applies a function at each step cumulatively to reduce an iterable to a single value. filter() is used to filter the elements based on a condition, and returns an iterator of items for which the condition is true. Whereas map() and filter() return new iterables, reduce() returns some value (usually a single value).\n",
        "\n",
        "\n",
        "            nums = [1, 2, 3]\n",
        "            result = map(lambda x: x * 2, nums)\n",
        "            print(list(result))  \n",
        "\n",
        "\n",
        "            from functools import reduce\n",
        "            nums = [1, 2, 3]\n",
        "            result = reduce(lambda x, y: x + y, nums)\n",
        "            print(result)  \n",
        "           \n",
        "\n",
        "            nums = [1, 2, 3, 4, 5]\n",
        "            result = filter(lambda x: x % 2 == 0, nums)\n",
        "            print(list(result))  # Output: [2, 4]\n",
        "\n"
      ],
      "metadata": {
        "id": "Jicc3fhg3Ofv"
      }
    },
    {
      "cell_type": "markdown",
      "source": [
        "#PRACTICAL"
      ],
      "metadata": {
        "id": "h82dpW5_37D1"
      }
    },
    {
      "cell_type": "markdown",
      "source": [],
      "metadata": {
        "id": "6AfZ6MS83C76"
      }
    },
    {
      "cell_type": "markdown",
      "source": [
        "1. Write a Python function that takes a list of numbers as input and returns the sum of all even numbers in the list.\n",
        "\n",
        "-->\n",
        "\n",
        " a python function that takes a list of numbers and returns the sum of all even numbers in the list:\n",
        "\n",
        "```python\n",
        "def sum_even_numbers(numbers):\n",
        "    return sum(num for num in numbers if num % 2 == 0)\n",
        "\n",
        "# Example usage:\n",
        "numbers = [47, 11, 42, 13, 28, 56]\n",
        "result = sum_even_numbers(numbers)\n",
        "print(result)  # Output: 126 (42 + 28 + 56)\n",
        "```\n",
        "\n",
        "this function uses a generator expression to filter out even numbers and then calculates their sum using the built-in `sum()` function."
      ],
      "metadata": {
        "id": "KjMs68qU5lvv"
      }
    },
    {
      "cell_type": "markdown",
      "source": [
        "2. Create a Python function that accepts a string and returns the reverse of that string.\n",
        "\n",
        "-->\n",
        "\n",
        "a python function that takes a string as input and returns its reverse:\n",
        "\n",
        "```python\n",
        "def reverse_string(s):\n",
        "    return s[::-1]\n",
        "\n",
        "# Example usage:\n",
        "input_string = \"Hello, world!\"\n",
        "reversed_string = reverse_string(input_string)\n",
        "print(reversed_string)  # Output: \"!dlrow ,olleH\"\n",
        "```\n",
        "\n",
        "this function uses python's slicing technique `[::-1]` to reverse the string."
      ],
      "metadata": {
        "id": "q9hkKhAP5w9q"
      }
    },
    {
      "cell_type": "markdown",
      "source": [
        "3.  Implement a Python function that takes a list of integers and returns a new list containing the squares of each number.\n",
        "\n",
        "-->\n",
        "\n",
        "a python function that takes a list of integers and returns a new list containing the squares of each number:\n",
        "\n",
        "```python\n",
        "def square_numbers(numbers):\n",
        "    return [num ** 2 for num in numbers]\n",
        "\n",
        "# Example usage:\n",
        "numbers = [1, 2, 3, 4, 5]\n",
        "squared_numbers = square_numbers(numbers)\n",
        "print(squared_numbers)  # Output: [1, 4, 9, 16, 25]\n",
        "```\n",
        "\n",
        "this function uses a list comprehension to square each number in the input list and return a new list with the results."
      ],
      "metadata": {
        "id": "LxTK66OX6Ech"
      }
    },
    {
      "cell_type": "markdown",
      "source": [
        "4. Write a Python function that checks if a given number is prime or not from 1 to 200.\n",
        "\n",
        "-->\n",
        "\n",
        "a python function that checks if a given number between 1 and 200 is prime:\n",
        "\n",
        "```python\n",
        "def is_prime(num):\n",
        "    if num <= 1:\n",
        "        return False\n",
        "    for i in range(2, int(num ** 0.5) + 1):\n",
        "        if num % i == 0:\n",
        "            return False\n",
        "    return True\n",
        "\n",
        "# Example usage:\n",
        "for num in range(1, 201):\n",
        "    if is_prime(num):\n",
        "        print(num)\n",
        "```\n",
        "\n",
        "this function checks whether each number from 1 to 200 is prime by testing divisibility from 2 to the square root of the number. If no divisor is found, the number is prime."
      ],
      "metadata": {
        "id": "F9Bcksoo6N6j"
      }
    },
    {
      "cell_type": "markdown",
      "source": [
        "5.Create an iterator class in Python that generates the Fibonacci sequence up to a specified number of terms.\n",
        "\n",
        "-->\n",
        "\n",
        "\n",
        "a python iterator class that generates the fibonacci sequence up to a specified number of terms:\n",
        "\n",
        "```python\n",
        "class FibonacciIterator:\n",
        "    def __init__(self, terms):\n",
        "        self.terms = terms\n",
        "        self.current = 0\n",
        "        self.next = 1\n",
        "        self.count = 0\n",
        "\n",
        "    def __iter__(self):\n",
        "        return self\n",
        "\n",
        "    def __next__(self):\n",
        "        if self.count < self.terms:\n",
        "            fib = self.current\n",
        "            self.current, self.next = self.next, self.current + self.next\n",
        "            self.count += 1\n",
        "            return fib\n",
        "        else:\n",
        "            raise StopIteration\n",
        "\n",
        "# example usage:\n",
        "fib = FibonacciIterator(10)\n",
        "for num in fib:\n",
        "    print(num)\n",
        "```\n",
        "\n",
        "this class defines an iterator for the fibonacci sequence. it starts with 0 and 1 and generates the next number by adding the two previous numbers. the iterator stops when the specified number of terms is reached."
      ],
      "metadata": {
        "id": "0XST_ufd6gqP"
      }
    },
    {
      "cell_type": "markdown",
      "source": [
        "6. Write a generator function in Python that yields the powers of 2 up to a given exponent.\n",
        "\n",
        "-->\n",
        "\n",
        "here’s a python generator function that yields the powers of 2 up to a given exponent:\n",
        "\n",
        "```python\n",
        "def powers_of_2(exponent):\n",
        "    for i in range(exponent + 1):\n",
        "        yield 2 ** i\n",
        "\n",
        "for power in powers_of_2(5):\n",
        "    print(power)\n",
        "```"
      ],
      "metadata": {
        "id": "pM7k09ax7CTF"
      }
    },
    {
      "cell_type": "markdown",
      "source": [
        "7. Implement a generator function that reads a file line by line and yields each line as a string.\n",
        "\n",
        "-->\n",
        "\n",
        "               def read_file_line_by_line(file_path):\n",
        "               with open(file_path, 'r') as file:\n",
        "               for line in file:\n",
        "                 yield line.strip()  # strip removes any trailing newline characters\n",
        "\n",
        "\n",
        "           for line in read_file_line_by_line('example.txt'):\n",
        "           print(line)\n"
      ],
      "metadata": {
        "id": "BD1tpdF87OWM"
      }
    },
    {
      "cell_type": "markdown",
      "source": [
        "8.  Use a lambda function in Python to sort a list of tuples based on the second element of each tuple.\n",
        "\n",
        "-->\n",
        "\n",
        "             tuples_list = [(1, 3), (4, 1), (2, 2), (5, 0)]\n",
        "             sorted_list = sorted(tuples_list, key=lambda x: x[1])\n",
        "             print(sorted_list)\n"
      ],
      "metadata": {
        "id": "emsMjnTA7kab"
      }
    },
    {
      "cell_type": "markdown",
      "source": [
        "9. Write a Python program that uses `map()` to convert a list of temperatures from Celsius to Fahrenheit.\n",
        "\n",
        "-->\n",
        "\n",
        "                     def celsius_to_fahrenheit(celsius):\n",
        "                         return (celsius * 9/5) + 32\n",
        "                     celsius_temps = [0, 20, 30, 40, 100]\n",
        "                       fahrenheit_temps = list(map(celsius_to_fahrenheit, celsius_temps))\n",
        "                         print(fahrenheit_temps)\n"
      ],
      "metadata": {
        "id": "2eC-dlRM73NT"
      }
    },
    {
      "cell_type": "markdown",
      "source": [
        "10. Create a Python program that uses `filter()` to remove all the vowels from a given string.\n",
        "\n",
        "-->\n",
        "\n",
        "               def remove_vowels(char):\n",
        "                   vowels = \"aeiouAEIOU\"\n",
        "                   return char not in vowels\n",
        "\n",
        "\n",
        "                 input_string = \"Hello, World!\"\n",
        "                 result_string = ''.join(filter(remove_vowels, input_string))\n",
        "                 print(result_string)\n",
        "\n",
        "\n"
      ],
      "metadata": {
        "id": "KsAwyMcK8Egn"
      }
    },
    {
      "cell_type": "markdown",
      "source": [
        "\n",
        "11. Imagine an accounting routine used in a book shop. It works on a list with sublists, which look like this:..........\n",
        "\n",
        "\n",
        "-->\n",
        "\n",
        "\n",
        "                orders = [34587, 98762, 77226, 88112]\n",
        "                books = [\n",
        "                  ('learning python - mark lutz', 40.95),\n",
        "                  ('programming python - mark lutz', 56.80),\n",
        "                  ('head first python - dual berry', 32.95),\n",
        "                  ('einfuhrung in python3 - Bernd Klein', 24.99)\n",
        "                           ]\n",
        "                 quantities = [4, 5, 3, 3]\n",
        "\n",
        "\n",
        "                 order_values = map(lambda x, y, z: (x, (y * z) + 10 if y * z < 100 else y * z), orders, quantities, [book[1] for book in books])\n",
        "\n",
        "\n",
        "                  result = list(order_values)\n",
        "                  print(result)\n"
      ],
      "metadata": {
        "id": "Ev7ZnWMRLY8m"
      }
    },
    {
      "cell_type": "code",
      "source": [],
      "metadata": {
        "id": "7njEUoMT2i4p"
      },
      "execution_count": null,
      "outputs": []
    }
  ]
}